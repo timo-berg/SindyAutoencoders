{
 "cells": [
  {
   "cell_type": "code",
   "execution_count": 1,
   "metadata": {},
   "outputs": [
    {
     "name": "stdout",
     "output_type": "stream",
     "text": [
      "WARNING:tensorflow:From C:\\Users\\leolu\\AppData\\Local\\Temp\\ipykernel_9924\\3840340010.py:15: The name tf.disable_eager_execution is deprecated. Please use tf.compat.v1.disable_eager_execution instead.\n",
      "\n",
      "WARNING:tensorflow:From C:\\Users\\leolu\\AppData\\Local\\Temp\\ipykernel_9924\\3840340010.py:16: disable_resource_variables (from tensorflow.python.ops.resource_variables_toggle) is deprecated and will be removed in a future version.\n",
      "Instructions for updating:\n",
      "non-resource variables are not supported in the long term\n"
     ]
    }
   ],
   "source": [
    "import sys\n",
    "sys.path.append(\"../../src\")\n",
    "import os\n",
    "import numpy as np\n",
    "import pickle\n",
    "from example_pendulum import get_pendulum_data, pendulum_to_movie\n",
    "from scipy.integrate import odeint\n",
    "from autoencoder import full_network\n",
    "from training import create_feed_dictionary\n",
    "from sindy_utils import sindy_simulate_order2\n",
    "import tensorflow as tf\n",
    "import matplotlib.pyplot as plt\n",
    "from mpl_toolkits.mplot3d import Axes3D\n",
    "%matplotlib inline\n",
    "tf.compat.v1.disable_eager_execution()\n",
    "tf.compat.v1.disable_resource_variables()"
   ]
  },
  {
   "cell_type": "code",
   "execution_count": 2,
   "metadata": {
    "collapsed": true
   },
   "outputs": [
    {
     "name": "stdout",
     "output_type": "stream",
     "text": [
      "WARNING:tensorflow:From C:\\Users\\leolu\\AppData\\Local\\Temp\\ipykernel_9924\\1924043336.py:8: The name tf.train.Saver is deprecated. Please use tf.compat.v1.train.Saver instead.\n",
      "\n"
     ]
    }
   ],
   "source": [
    "data_path = os.getcwd() + '/old/'\n",
    "save_name = 'model1'\n",
    "params = pickle.load(open(data_path + save_name + '_params.pkl', 'rb'))\n",
    "params['save_name'] = data_path + save_name\n",
    "\n",
    "autoencoder_network = full_network(params)\n",
    "learning_rate = tf.compat.v1.placeholder(tf.float32, name='learning_rate')\n",
    "saver = tf.compat.v1.train.Saver(var_list=tf.compat.v1.get_collection(tf.compat.v1.GraphKeys.GLOBAL_VARIABLES))\n",
    "\n",
    "tensorflow_run_tuple = ()\n",
    "for key in autoencoder_network.keys():\n",
    "    tensorflow_run_tuple += (autoencoder_network[key],)"
   ]
  },
  {
   "cell_type": "markdown",
   "metadata": {},
   "source": [
    "## Single trajectory plots"
   ]
  },
  {
   "cell_type": "code",
   "execution_count": 3,
   "metadata": {
    "collapsed": true
   },
   "outputs": [],
   "source": [
    "t = np.arange(0, 20, .02)\n",
    "z0s = np.pi/np.array([1.5,2,3,4,8,16])\n",
    "dz0s = .5*np.ones(z0s.shape)\n",
    "\n",
    "Forcing = lambda t: 0.5 * t\n",
    "f  = lambda z, t : [z[1], -np.sin(z[0])+Forcing(z[0])]\n",
    "n_ics = z0s.size\n",
    "\n",
    "z = np.zeros((n_ics,t.size,2))\n",
    "dz = np.zeros(z.shape)\n",
    "for i in range(n_ics):\n",
    "    z[i] = odeint(f, [z0s[i],dz0s[i]], t)\n",
    "    dz[i] = np.array([f(z[i,j], t[j]) for j in range(len(t))])\n",
    "    \n",
    "x,dx,ddx = pendulum_to_movie(z,dz)"
   ]
  },
  {
   "cell_type": "code",
   "execution_count": 4,
   "metadata": {
    "collapsed": true
   },
   "outputs": [],
   "source": [
    "test_data = {}\n",
    "test_data['x'] = x.reshape((-1,params['input_dim']))\n",
    "test_data['dx'] = dx.reshape((-1,params['input_dim']))\n",
    "test_data['ddx'] = ddx.reshape((-1,params['input_dim']))\n",
    "test_data['z'] = z[:,:,0].reshape((-1,params['latent_dim']))\n",
    "test_data['dz'] = z[:,:,1].reshape((-1,params['latent_dim']))\n",
    "test_data['ddz'] = dz[:,:,1].reshape((-1,params['latent_dim']))"
   ]
  },
  {
   "cell_type": "code",
   "execution_count": 5,
   "metadata": {},
   "outputs": [
    {
     "name": "stdout",
     "output_type": "stream",
     "text": [
      "INFO:tensorflow:Restoring parameters from c:\\Users\\leolu\\OneDrive\\Tu Delft\\WI4450 Special Topics in Computational Science and Engineering\\SindyAutoencoders\\examples\\pendulum/old/model1\n"
     ]
    }
   ],
   "source": [
    "with tf.compat.v1.Session() as sess:\n",
    "    sess.run(tf.compat.v1.global_variables_initializer())\n",
    "    saver.restore(sess, data_path + save_name)\n",
    "    test_dictionary = create_feed_dictionary(test_data, params)\n",
    "    tf_results = sess.run(tensorflow_run_tuple, feed_dict=test_dictionary)\n",
    "\n",
    "test_set_results = {}\n",
    "for i,key in enumerate(autoencoder_network.keys()):\n",
    "    test_set_results[key] = tf_results[i]\n"
   ]
  },
  {
   "cell_type": "code",
   "execution_count": 6,
   "metadata": {
    "collapsed": true
   },
   "outputs": [],
   "source": [
    "true_coefficients = np.zeros(test_set_results['sindy_coefficients'].shape)\n",
    "true_coefficients[-2] = -1.\n",
    "z_sim = np.zeros((n_ics, t.size, 2))\n",
    "pendulum_sim = np.zeros(z_sim.shape)\n",
    "for i in range(n_ics):\n",
    "    z_sim[i] = sindy_simulate_order2(test_set_results['z'][i*t.size], test_set_results['dz'][i*t.size], t,\n",
    "                                     params['coefficient_mask']*test_set_results['sindy_coefficients'],\n",
    "                                     params['poly_order'], params['include_sine'])\n",
    "    pendulum_sim[i] = sindy_simulate_order2(test_data['z'][i*t.size], test_data['dz'][i*t.size], t,\n",
    "                                            true_coefficients,\n",
    "                                            params['poly_order'], params['include_sine'])"
   ]
  },
  {
   "cell_type": "code",
   "execution_count": 7,
   "metadata": {},
   "outputs": [
    {
     "data": {
      "text/plain": [
       "0.1"
      ]
     },
     "execution_count": 7,
     "metadata": {},
     "output_type": "execute_result"
    }
   ],
   "source": [
    "params[\"coefficient_threshold\"]"
   ]
  },
  {
   "cell_type": "code",
   "execution_count": 8,
   "metadata": {},
   "outputs": [
    {
     "data": {
      "text/plain": [
       "'-0.99 sin(x)'"
      ]
     },
     "execution_count": 8,
     "metadata": {},
     "output_type": "execute_result"
    }
   ],
   "source": [
    "coeffs = test_set_results['sindy_coefficients']\n",
    "thresholded_coeffs = np.abs(coeffs) < params[\"coefficient_threshold\"]\n",
    "coeffs[thresholded_coeffs] = 0\n",
    "coeff_strings = [\"\", \"x\", \"dx\", \"x^2\", \"x*dx\", \"dx^2\", \"x^3\", \"x^2*dx\", \"x*dx^2\", \"dx^3\", \"sin(x)\", \"dsin(x)\"]\n",
    "formula = \"\"\n",
    "for i in range(coeffs.size):\n",
    "    if coeffs[i] != 0:\n",
    "        formula += \"{:.2f} \".format(coeffs[i][0])\n",
    "        formula += coeff_strings[i]\n",
    "        formula += \" + \"\n",
    "\n",
    "formula[:-3]\n"
   ]
  },
  {
   "cell_type": "code",
   "execution_count": 9,
   "metadata": {},
   "outputs": [
    {
     "data": {
      "text/plain": [
       "([], [])"
      ]
     },
     "execution_count": 9,
     "metadata": {},
     "output_type": "execute_result"
    },
    {
     "data": {
      "image/png": "[encoded data removed]",
      "text/plain": [
       "<Figure size 400x300 with 1 Axes>"
      ]
     },
     "metadata": {},
     "output_type": "display_data"
    },
    {
     "data": {
      "image/png": "[encoded data removed]",
      "text/plain": [
       "<Figure size 400x300 with 1 Axes>"
      ]
     },
     "metadata": {},
     "output_type": "display_data"
    }
   ],
   "source": [
    "plt.figure(figsize=(4,3))\n",
    "plt.plot(z_sim[:,:,0].T, z_sim[:,:,1].T, linewidth=2, color='#2071B1')\n",
    "plt.axis('equal')\n",
    "plt.axis('off')\n",
    "plt.xticks([])\n",
    "plt.yticks([])\n",
    "\n",
    "plt.figure(figsize=(4,3))\n",
    "plt.plot(pendulum_sim[:,:,0].T, pendulum_sim[:,:,1].T, linewidth=2, color='#2071B1')\n",
    "plt.axis('equal')\n",
    "plt.axis('off')\n",
    "plt.xticks([])\n",
    "plt.yticks([])"
   ]
  },
  {
   "cell_type": "code",
   "execution_count": 10,
   "metadata": {},
   "outputs": [
    {
     "name": "stderr",
     "output_type": "stream",
     "text": [
      "C:\\Users\\leolu\\AppData\\Local\\Temp\\ipykernel_9924\\3619258448.py:5: UserWarning: color is redundantly defined by the 'color' keyword argument and the fmt string \"k\" (-> color=(0.0, 0.0, 0.0, 1)). The keyword argument will take precedence.\n",
      "  plt.plot(test_set_results['z'][ic_idx*t.size:(ic_idx+1)*t.size,0], 'k', color='#888888', linewidth=2)\n"
     ]
    },
    {
     "data": {
      "text/plain": [
       "(-49.95, 1048.95, -3.1177475452423096, 3.5703132152557373)"
      ]
     },
     "execution_count": 10,
     "metadata": {},
     "output_type": "execute_result"
    },
    {
     "data": {
      "image/png": "[encoded data removed]",
      "text/plain": [
       "<Figure size 300x200 with 1 Axes>"
      ]
     },
     "metadata": {},
     "output_type": "display_data"
    }
   ],
   "source": [
    "ic_idx = 1\n",
    "\n",
    "plt.figure(figsize=(3,2))\n",
    "plt.subplot(2,1,1)\n",
    "plt.plot(test_set_results['z'][ic_idx*t.size:(ic_idx+1)*t.size,0], 'k', color='#888888', linewidth=2)\n",
    "plt.plot(z_sim[ic_idx,:,0], '--', linewidth=2)\n",
    "plt.xticks([])\n",
    "plt.yticks([])\n",
    "plt.axis('off')"
   ]
  },
  {
   "cell_type": "markdown",
   "metadata": {},
   "source": [
    "## Test set analysis - in distribution"
   ]
  },
  {
   "cell_type": "code",
   "execution_count": 11,
   "metadata": {
    "collapsed": true
   },
   "outputs": [
    {
     "name": "stdout",
     "output_type": "stream",
     "text": [
      "Generating pendulum data with forcing\n"
     ]
    }
   ],
   "source": [
    "test_data = get_pendulum_data(10, False, True)"
   ]
  },
  {
   "cell_type": "code",
   "execution_count": 12,
   "metadata": {},
   "outputs": [
    {
     "name": "stdout",
     "output_type": "stream",
     "text": [
      "INFO:tensorflow:Restoring parameters from c:\\Users\\leolu\\OneDrive\\Tu Delft\\WI4450 Special Topics in Computational Science and Engineering\\SindyAutoencoders\\examples\\pendulum/old/model1\n"
     ]
    }
   ],
   "source": [
    "with tf.compat.v1.Session() as sess:\n",
    "    sess.run(tf.compat.v1.global_variables_initializer())\n",
    "    saver.restore(sess, data_path + save_name)\n",
    "    test_dictionary = create_feed_dictionary(test_data, params)\n",
    "    tf_results = sess.run(tensorflow_run_tuple, feed_dict=test_dictionary)\n",
    "\n",
    "test_set_results = {}\n",
    "for i,key in enumerate(autoencoder_network.keys()):\n",
    "    test_set_results[key] = tf_results[i]"
   ]
  },
  {
   "cell_type": "code",
   "execution_count": 13,
   "metadata": {},
   "outputs": [
    {
     "name": "stdout",
     "output_type": "stream",
     "text": [
      "Decoder relative error: 0.045007\n",
      "Decoder relative SINDy error: 235437.490296\n",
      "SINDy reltive error, z: 1.000000\n"
     ]
    }
   ],
   "source": [
    "decoder_x_error = np.mean((test_data['x'] - test_set_results['x_decode'])**2)/np.mean(test_data['x']**2)\n",
    "decoder_ddx_error = np.mean((test_data['ddx'] - test_set_results['ddx_decode'])**2)/np.mean(test_data['ddx']**2)\n",
    "sindy_ddz_error = np.mean((test_set_results['ddz'] - test_set_results['ddz_predict'])**2)/np.mean(test_set_results['ddz']**2)\n",
    "\n",
    "print('Decoder relative error: %f' % decoder_x_error)\n",
    "print('Decoder relative SINDy error: %f' % decoder_ddx_error)\n",
    "print('SINDy reltive error, z: %f' % sindy_ddz_error)"
   ]
  }
 ],
 "metadata": {
  "kernelspec": {
   "display_name": "Python 3",
   "language": "python",
   "name": "python3"
  },
  "language_info": {
   "codemirror_mode": {
    "name": "ipython",
    "version": 3
   },
   "file_extension": ".py",
   "mimetype": "text/x-python",
   "name": "python",
   "nbconvert_exporter": "python",
   "pygments_lexer": "ipython3",
   "version": "3.12.0"
  },
  "toc": {
   "base_numbering": 1,
   "nav_menu": {},
   "number_sections": true,
   "sideBar": true,
   "skip_h1_title": false,
   "title_cell": "Table of Contents",
   "title_sidebar": "Contents",
   "toc_cell": false,
   "toc_position": {},
   "toc_section_display": true,
   "toc_window_display": false
  },
  "varInspector": {
   "cols": {
    "lenName": 16,
    "lenType": 16,
    "lenVar": 40
   },
   "kernels_config": {
    "python": {
     "delete_cmd_postfix": "",
     "delete_cmd_prefix": "del ",
     "library": "var_list.py",
     "varRefreshCmd": "print(var_dic_list())"
    },
    "r": {
     "delete_cmd_postfix": ") ",
     "delete_cmd_prefix": "rm(",
     "library": "var_list.r",
     "varRefreshCmd": "cat(var_dic_list()) "
    }
   },
   "types_to_exclude": [
    "module",
    "function",
    "builtin_function_or_method",
    "instance",
    "_Feature"
   ],
   "window_display": false
  }
 },
 "nbformat": 4,
 "nbformat_minor": 2
}
