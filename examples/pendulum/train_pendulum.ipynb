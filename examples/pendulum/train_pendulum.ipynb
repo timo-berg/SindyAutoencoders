{
 "cells": [
  {
   "cell_type": "code",
   "execution_count": 1,
   "metadata": {
    "collapsed": true
   },
   "outputs": [],
   "source": [
    "import sys\n",
    "sys.path.append(\"../../src\")\n",
    "import os\n",
    "import datetime\n",
    "import pandas as pd\n",
    "import numpy as np\n",
    "from example_pendulum import get_pendulum_data\n",
    "from sindy_utils import library_size\n",
    "from training import train_network\n",
    "import tensorflow as tf\n",
    "tf.compat.v1.disable_eager_execution()\n"
   ]
  },
  {
   "cell_type": "markdown",
   "metadata": {},
   "source": [
    "# Generate data"
   ]
  },
  {
   "cell_type": "code",
   "execution_count": 2,
   "metadata": {
    "collapsed": true
   },
   "outputs": [
    {
     "name": "stdout",
     "output_type": "stream",
     "text": [
      "Generating pendulum data with noise\n",
      "Generating pendulum data\n"
     ]
    }
   ],
   "source": [
    "training_data = get_pendulum_data(100, True)\n",
    "validation_data = get_pendulum_data(10)"
   ]
  },
  {
   "cell_type": "markdown",
   "metadata": {},
   "source": [
    "# Set up model and training parameters"
   ]
  },
  {
   "cell_type": "code",
   "execution_count": 3,
   "metadata": {
    "collapsed": true
   },
   "outputs": [],
   "source": [
    "params = {}\n",
    "\n",
    "params['input_dim'] = training_data['x'].shape[-1]\n",
    "params['latent_dim'] = 1\n",
    "params['model_order'] = 2\n",
    "params['poly_order'] = 3\n",
    "params['include_sine'] = True\n",
    "params['library_dim'] = library_size(2*params['latent_dim'], params['poly_order'], params['include_sine'], True)\n",
    "\n",
    "# sequential thresholding parameters\n",
    "params['sequential_thresholding'] = True\n",
    "params['coefficient_threshold'] = 0.1\n",
    "params['threshold_frequency'] = 500\n",
    "params['coefficient_mask'] = np.ones((params['library_dim'], params['latent_dim']))\n",
    "params['coefficient_initialization'] = 'constant'\n",
    "\n",
    "# loss function weighting\n",
    "params['loss_weight_decoder'] = 1.0\n",
    "params['loss_weight_sindy_x'] = 5e-4\n",
    "params['loss_weight_sindy_z'] = 5e-5\n",
    "params['loss_weight_sindy_regularization'] = 1e-5\n",
    "\n",
    "params['activation'] = 'sigmoid'\n",
    "params['widths'] = [128,64,32]\n",
    "\n",
    "# training parameters\n",
    "params['epoch_size'] = training_data['x'].shape[0]\n",
    "params['batch_size'] = 1000\n",
    "params['learning_rate'] = 1e-4\n",
    "\n",
    "params['data_path'] = os.getcwd() + '/'\n",
    "params['print_progress'] = True\n",
    "params['print_frequency'] = 100\n",
    "\n",
    "# training time cutoffs\n",
    "params['max_epochs'] = 5001\n",
    "params['refinement_epochs'] = 1001"
   ]
  },
  {
   "cell_type": "markdown",
   "metadata": {},
   "source": [
    "# Run training experiments"
   ]
  },
  {
   "cell_type": "code",
   "execution_count": 10,
   "metadata": {
    "collapsed": true
   },
   "outputs": [
    {
     "name": "stdout",
     "output_type": "stream",
     "text": [
      "EXPERIMENT 0\n",
      "TRAINING\n"
     ]
    },
    {
     "name": "stderr",
     "output_type": "stream",
     "text": [
      "2024-05-27 16:54:22.657186: I tensorflow/core/common_runtime/pluggable_device/pluggable_device_factory.cc:303] Could not identify NUMA node of platform GPU ID 0, defaulting to 0. Your kernel may not have been built with NUMA support.\n",
      "2024-05-27 16:54:22.657711: I tensorflow/core/common_runtime/pluggable_device/pluggable_device_factory.cc:269] Created TensorFlow device (/job:localhost/replica:0/task:0/device:GPU:0 with 0 MB memory) -> physical PluggableDevice (device: 0, name: METAL, pci bus id: <undefined>)\n",
      "2024-05-27 16:54:22.824966: I tensorflow/core/grappler/optimizers/custom_graph_optimizer_registry.cc:114] Plugin optimizer for device_type GPU is enabled.\n",
      "2024-05-27 16:54:23.354672: I tensorflow/core/grappler/optimizers/custom_graph_optimizer_registry.cc:114] Plugin optimizer for device_type GPU is enabled.\n",
      "2024-05-27 16:54:30.579353: I tensorflow/core/grappler/optimizers/custom_graph_optimizer_registry.cc:114] Plugin optimizer for device_type GPU is enabled.\n"
     ]
    },
    {
     "name": "stdout",
     "output_type": "stream",
     "text": [
      "Epoch 0\n",
      "   training loss 0.023329727351665497, (0.008067376, 0.0012238977, 30.504637, 0.99707335)\n",
      "   validation loss 0.01762949489057064, (0.007982797, 0.0010961044, 19.273344, 0.99707335)\n"
     ]
    },
    {
     "name": "stderr",
     "output_type": "stream",
     "text": [
      "2024-05-27 16:54:31.664774: I tensorflow/core/grappler/optimizers/custom_graph_optimizer_registry.cc:114] Plugin optimizer for device_type GPU is enabled.\n"
     ]
    },
    {
     "name": "stdout",
     "output_type": "stream",
     "text": [
      "decoder loss ratio: 0.951718, decoder SINDy loss  ratio: 1.000000\n",
      "Epoch 100\n",
      "   training loss 0.02279154397547245, (0.0075332723, 0.00011624728, 30.504637, 0.5946864)\n",
      "   validation loss 0.017081409692764282, (0.007438786, 8.30812e-05, 19.273344, 0.5946864)\n",
      "decoder loss ratio: 0.886860, decoder SINDy loss  ratio: 1.000000\n",
      "Epoch 200\n",
      "   training loss 0.022816041484475136, (0.007562197, 0.0027833758, 30.504637, 0.13850556)\n",
      "   validation loss 0.017071908339858055, (0.0074337577, 0.0018736854, 19.273342, 0.13850556)\n",
      "decoder loss ratio: 0.886261, decoder SINDy loss  ratio: 1.000000\n",
      "Epoch 300\n",
      "   training loss 0.022823935374617577, (0.0075696846, 0.033020917, 30.504637, 0.028064948)\n",
      "   validation loss 0.01706969179213047, (0.00743178, 0.01915347, 19.273344, 0.028064948)\n",
      "decoder loss ratio: 0.886025, decoder SINDy loss  ratio: 1.000000\n",
      "Epoch 400\n",
      "   training loss 0.02191402018070221, (0.0065866266, 1.5434088, 30.498857, 0.079308204)\n",
      "   validation loss 0.01634349301457405, (0.0066517624, 1.1212306, 19.26975, 0.079308204)\n",
      "decoder loss ratio: 0.793030, decoder SINDy loss  ratio: 0.999814\n",
      "Epoch 500\n",
      "   training loss 0.019023548811674118, (0.005831899, 1.4050714, 26.240873, 0.095834546)\n",
      "   validation loss 0.013641375117003918, (0.0052916184, 1.34996, 16.562601, 0.095834546)\n",
      "decoder loss ratio: 0.630872, decoder SINDy loss  ratio: 0.859353\n",
      "THRESHOLDING: 3 active coefficients\n"
     ]
    },
    {
     "name": "stderr",
     "output_type": "stream",
     "text": [
      "2024-05-27 17:19:31.316440: I tensorflow/core/grappler/optimizers/custom_graph_optimizer_registry.cc:114] Plugin optimizer for device_type GPU is enabled.\n"
     ]
    },
    {
     "name": "stdout",
     "output_type": "stream",
     "text": [
      "Epoch 600\n",
      "   training loss 0.012782356701791286, (0.0046877107, 2.7292242, 15.915383, 0.049242288)\n",
      "   validation loss 0.00907565001398325, (0.0039584576, 2.1460958, 10.01879, 0.049242288)\n",
      "decoder loss ratio: 0.471932, decoder SINDy loss  ratio: 0.519826\n",
      "Epoch 700\n",
      "   training loss 0.00846403744071722, (0.0036927569, 1.9253316, 9.349077, 0.04745991)\n",
      "   validation loss 0.0061425017192959785, (0.0029439263, 1.4543377, 6.2507677, 0.04745991)\n",
      "decoder loss ratio: 0.350978, decoder SINDy loss  ratio: 0.324322\n",
      "Epoch 800\n",
      "   training loss 0.005846149288117886, (0.0029304433, 1.4074395, 5.68976, 0.045347136)\n",
      "   validation loss 0.0044002896174788475, (0.002335437, 1.1259023, 4.016207, 0.045347136)\n",
      "decoder loss ratio: 0.278433, decoder SINDy loss  ratio: 0.208381\n",
      "Epoch 900\n",
      "   training loss 0.004180005751550198, (0.0023357412, 1.0274268, 3.584962, 0.04121992)\n",
      "   validation loss 0.003280152101069689, (0.0019113913, 0.8458982, 2.6521075, 0.04121992)\n",
      "decoder loss ratio: 0.227878, decoder SINDy loss  ratio: 0.137605\n",
      "Epoch 1000\n",
      "   training loss 0.0031374774407595396, (0.0018678802, 0.78132474, 2.4603472, 0.03574395)\n",
      "   validation loss 0.0025128338020294905, (0.0015510275, 0.6228646, 1.8606116, 0.03574395)\n",
      "decoder loss ratio: 0.184915, decoder SINDy loss  ratio: 0.096538\n",
      "THRESHOLDING: 2 active coefficients\n",
      "Epoch 1100\n",
      "   training loss 0.002428441308438778, (0.0014971218, 0.6827906, 1.7936655, 0.03474277)\n",
      "   validation loss 0.001996926497668028, (0.0012752905, 0.5519071, 1.3873864, 0.03474277)\n",
      "decoder loss ratio: 0.152042, decoder SINDy loss  ratio: 0.071985\n",
      "Epoch 1200\n",
      "   training loss 0.0018551641842350364, (0.001136996, 0.5273461, 1.3829097, 0.034614414)\n",
      "   validation loss 0.0016001523472368717, (0.0010262937, 0.44874355, 1.1021506, 0.034614414)\n",
      "decoder loss ratio: 0.122356, decoder SINDy loss  ratio: 0.057185\n",
      "Epoch 1300\n",
      "   training loss 0.0013468405231833458, (0.0007795824, 0.64899457, 1.0689306, 0.03429246)\n",
      "   validation loss 0.0012283005053177476, (0.0007673103, 0.5190832, 0.8693861, 0.03429246)\n",
      "decoder loss ratio: 0.091480, decoder SINDy loss  ratio: 0.045108\n",
      "Epoch 1400\n",
      "   training loss 0.0010215778602287173, (0.0005772835, 0.50842935, 0.8370421, 0.035193972)\n",
      "   validation loss 0.0009802349377423525, (0.0006139239, 0.4152419, 0.6903941, 0.035193972)\n",
      "decoder loss ratio: 0.073193, decoder SINDy loss  ratio: 0.035821\n",
      "Epoch 1500\n",
      "   training loss 0.0008988311747089028, (0.0005099739, 0.37646022, 0.73927593, 0.039628655)\n",
      "   validation loss 0.0008833344327285886, (0.00056042185, 0.34176284, 0.61085624, 0.039628655)\n",
      "decoder loss ratio: 0.066814, decoder SINDy loss  ratio: 0.031694\n",
      "THRESHOLDING: 2 active coefficients\n",
      "Epoch 1600\n",
      "   training loss 0.0008229939849115908, (0.00046464728, 0.3277983, 0.68303096, 0.044128545)\n",
      "   validation loss 0.0008220049203373492, (0.00052331184, 0.30689377, 0.56581426, 0.044128545)\n",
      "decoder loss ratio: 0.062390, decoder SINDy loss  ratio: 0.029357\n",
      "Epoch 1700\n",
      "   training loss 0.000738197413738817, (0.00041418237, 0.33334103, 0.61376804, 0.046398234)\n",
      "   validation loss 0.0007475709426216781, (0.0004742399, 0.30566224, 0.51516795, 0.046398234)\n",
      "decoder loss ratio: 0.056539, decoder SINDy loss  ratio: 0.026730\n",
      "Epoch 1800\n",
      "   training loss 0.0006285525159910321, (0.0003540707, 0.3626698, 0.5117756, 0.046053752)\n",
      "   validation loss 0.0006471309461630881, (0.00040875256, 0.3154485, 0.44429088, 0.046053752)\n",
      "decoder loss ratio: 0.048732, decoder SINDy loss  ratio: 0.023052\n",
      "Epoch 1900\n",
      "   training loss 0.0005211779498495162, (0.00029642278, 0.36430642, 0.4121794, 0.045012042)\n",
      "   validation loss 0.0005477411905303597, (0.00034606463, 0.3077844, 0.37167442, 0.045012042)\n",
      "decoder loss ratio: 0.041258, decoder SINDy loss  ratio: 0.019284\n",
      "Epoch 2000\n",
      "   training loss 0.00045254468568600714, (0.00025288612, 0.3238816, 0.36603758, 0.044570755)\n",
      "   validation loss 0.0004807944060303271, (0.0003008745, 0.27085477, 0.3318629, 0.044570755)\n",
      "decoder loss ratio: 0.035871, decoder SINDy loss  ratio: 0.017219\n",
      "THRESHOLDING: 2 active coefficients\n",
      "Epoch 2100\n",
      "   training loss 0.00040242332033813, (0.00021783182, 0.29577565, 0.33870262, 0.045139007)\n",
      "   validation loss 0.0004340166924521327, (0.00026851322, 0.24455526, 0.3056486, 0.045139007)\n",
      "decoder loss ratio: 0.032012, decoder SINDy loss  ratio: 0.015859\n",
      "Epoch 2200\n",
      "   training loss 0.0003545113722793758, (0.00018478278, 0.28139436, 0.31039682, 0.046045236)\n",
      "   validation loss 0.00039256978197954595, (0.00024075176, 0.23008877, 0.27970624, 0.046045236)\n",
      "decoder loss ratio: 0.028703, decoder SINDy loss  ratio: 0.014513\n",
      "Epoch 2300\n",
      "   training loss 0.0003055666165892035, (0.00015180338, 0.27695912, 0.27889475, 0.046790153)\n",
      "   validation loss 0.00035155456862412393, (0.00021360752, 0.22463138, 0.25249514, 0.046790153)\n",
      "decoder loss ratio: 0.025467, decoder SINDy loss  ratio: 0.013101\n",
      "Epoch 2400\n",
      "   training loss 0.00025887187803164124, (0.00012088197, 0.27877045, 0.24715865, 0.047207266)\n",
      "   validation loss 0.000311152107315138, (0.00018642281, 0.22384985, 0.22612949, 0.047207266)\n",
      "decoder loss ratio: 0.022226, decoder SINDy loss  ratio: 0.011733\n",
      "Epoch 2500\n",
      "   training loss 0.00022192976030055434, (9.6485805e-05, 0.27633455, 0.22229907, 0.047769945)\n",
      "   validation loss 0.000276181468507275, (0.00016214256, 0.21920212, 0.20520218, 0.047769945)\n",
      "decoder loss ratio: 0.019331, decoder SINDy loss  ratio: 0.010647\n",
      "THRESHOLDING: 2 active coefficients\n",
      "Epoch 2600\n",
      "   training loss 0.0001995877973968163, (7.936898e-05, 0.27170172, 0.2122907, 0.04883775)\n",
      "   validation loss 0.0002492650237400085, (0.00014096808, 0.21060713, 0.19455636, 0.04883775)\n",
      "decoder loss ratio: 0.016806, decoder SINDy loss  ratio: 0.010095\n",
      "Epoch 2700\n",
      "   training loss 0.00017932627815753222, (6.737963e-05, 0.26447883, 0.19643861, 0.05033871)\n",
      "   validation loss 0.00022579371579922736, (0.00012465264, 0.20317905, 0.18095745, 0.05033871)\n",
      "decoder loss ratio: 0.014861, decoder SINDy loss  ratio: 0.009389\n"
     ]
    }
   ],
   "source": [
    "num_experiments = 10\n",
    "df = pd.DataFrame()\n",
    "for i in range(num_experiments):\n",
    "    print('EXPERIMENT %d' % i)\n",
    "\n",
    "    params['coefficient_mask'] = np.ones((params['library_dim'], params['latent_dim']))\n",
    "\n",
    "    params['save_name'] = 'pendulum_' + datetime.datetime.now().strftime(\"%Y_%m_%d_%H_%M_%S_%f\")\n",
    "\n",
    "    tf.compat.v1.reset_default_graph()\n",
    "\n",
    "    results_dict = train_network(training_data, validation_data, params)\n",
    "    df = df.append({**results_dict, **params}, ignore_index=True)\n",
    "\n",
    "df.to_pickle('experiment_results_' + datetime.datetime.now().strftime(\"%Y%m%d%H%M\") + '.pkl')"
   ]
  }
 ],
 "metadata": {
  "kernelspec": {
   "display_name": "Python 3",
   "language": "python",
   "name": "python3"
  },
  "language_info": {
   "codemirror_mode": {
    "name": "ipython",
    "version": 3
   },
   "file_extension": ".py",
   "mimetype": "text/x-python",
   "name": "python",
   "nbconvert_exporter": "python",
   "pygments_lexer": "ipython3",
   "version": "3.8.18"
  },
  "toc": {
   "base_numbering": 1,
   "nav_menu": {},
   "number_sections": true,
   "sideBar": true,
   "skip_h1_title": false,
   "title_cell": "Table of Contents",
   "title_sidebar": "Contents",
   "toc_cell": false,
   "toc_position": {},
   "toc_section_display": true,
   "toc_window_display": false
  },
  "varInspector": {
   "cols": {
    "lenName": 16,
    "lenType": 16,
    "lenVar": 40
   },
   "kernels_config": {
    "python": {
     "delete_cmd_postfix": "",
     "delete_cmd_prefix": "del ",
     "library": "var_list.py",
     "varRefreshCmd": "print(var_dic_list())"
    },
    "r": {
     "delete_cmd_postfix": ") ",
     "delete_cmd_prefix": "rm(",
     "library": "var_list.r",
     "varRefreshCmd": "cat(var_dic_list()) "
    }
   },
   "types_to_exclude": [
    "module",
    "function",
    "builtin_function_or_method",
    "instance",
    "_Feature"
   ],
   "window_display": false
  }
 },
 "nbformat": 4,
 "nbformat_minor": 2
}
